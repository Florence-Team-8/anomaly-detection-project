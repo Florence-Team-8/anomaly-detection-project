{
 "cells": [
  {
   "cell_type": "code",
   "execution_count": 1,
   "metadata": {},
   "outputs": [],
   "source": [
    "import warnings\n",
    "warnings.filterwarnings(\"ignore\")\n",
    "\n",
    "from acquire import user, host, password\n",
    "import acquire\n",
    "\n",
    "import numpy as np\n",
    "import pandas as pd\n",
    "\n",
    "import matplotlib.pyplot as plt\n",
    "import seaborn as sns"
   ]
  },
  {
   "cell_type": "code",
   "execution_count": 7,
   "metadata": {},
   "outputs": [],
   "source": [
    "df = acquire.get_joined_curriculum_data()"
   ]
  },
  {
   "cell_type": "code",
   "execution_count": 8,
   "metadata": {},
   "outputs": [
    {
     "data": {
      "text/html": [
       "<div>\n",
       "<style scoped>\n",
       "    .dataframe tbody tr th:only-of-type {\n",
       "        vertical-align: middle;\n",
       "    }\n",
       "\n",
       "    .dataframe tbody tr th {\n",
       "        vertical-align: top;\n",
       "    }\n",
       "\n",
       "    .dataframe thead th {\n",
       "        text-align: right;\n",
       "    }\n",
       "</style>\n",
       "<table border=\"1\" class=\"dataframe\">\n",
       "  <thead>\n",
       "    <tr style=\"text-align: right;\">\n",
       "      <th></th>\n",
       "      <th>date</th>\n",
       "      <th>endpoint</th>\n",
       "      <th>user_id</th>\n",
       "      <th>cohort_id</th>\n",
       "      <th>source_ip</th>\n",
       "      <th>name</th>\n",
       "      <th>start_date</th>\n",
       "      <th>end_date</th>\n",
       "      <th>program_id</th>\n",
       "    </tr>\n",
       "  </thead>\n",
       "  <tbody>\n",
       "    <tr>\n",
       "      <th>0</th>\n",
       "      <td>2018-01-26</td>\n",
       "      <td>/</td>\n",
       "      <td>1</td>\n",
       "      <td>8.0</td>\n",
       "      <td>97.105.19.61</td>\n",
       "      <td>Hampton</td>\n",
       "      <td>2015-09-22</td>\n",
       "      <td>2016-02-06</td>\n",
       "      <td>1.0</td>\n",
       "    </tr>\n",
       "    <tr>\n",
       "      <th>1</th>\n",
       "      <td>2018-01-26</td>\n",
       "      <td>java-ii</td>\n",
       "      <td>1</td>\n",
       "      <td>8.0</td>\n",
       "      <td>97.105.19.61</td>\n",
       "      <td>Hampton</td>\n",
       "      <td>2015-09-22</td>\n",
       "      <td>2016-02-06</td>\n",
       "      <td>1.0</td>\n",
       "    </tr>\n",
       "    <tr>\n",
       "      <th>2</th>\n",
       "      <td>2018-01-26</td>\n",
       "      <td>java-ii/object-oriented-programming</td>\n",
       "      <td>1</td>\n",
       "      <td>8.0</td>\n",
       "      <td>97.105.19.61</td>\n",
       "      <td>Hampton</td>\n",
       "      <td>2015-09-22</td>\n",
       "      <td>2016-02-06</td>\n",
       "      <td>1.0</td>\n",
       "    </tr>\n",
       "  </tbody>\n",
       "</table>\n",
       "</div>"
      ],
      "text/plain": [
       "         date                             endpoint  user_id  cohort_id  \\\n",
       "0  2018-01-26                                    /        1        8.0   \n",
       "1  2018-01-26                              java-ii        1        8.0   \n",
       "2  2018-01-26  java-ii/object-oriented-programming        1        8.0   \n",
       "\n",
       "      source_ip     name  start_date    end_date  program_id  \n",
       "0  97.105.19.61  Hampton  2015-09-22  2016-02-06         1.0  \n",
       "1  97.105.19.61  Hampton  2015-09-22  2016-02-06         1.0  \n",
       "2  97.105.19.61  Hampton  2015-09-22  2016-02-06         1.0  "
      ]
     },
     "execution_count": 8,
     "metadata": {},
     "output_type": "execute_result"
    }
   ],
   "source": [
    "df.head(3)"
   ]
  },
  {
   "cell_type": "code",
   "execution_count": 12,
   "metadata": {},
   "outputs": [
    {
     "data": {
      "text/plain": [
       "(1018810, 9)"
      ]
     },
     "execution_count": 12,
     "metadata": {},
     "output_type": "execute_result"
    }
   ],
   "source": [
    "df.shape"
   ]
  },
  {
   "cell_type": "code",
   "execution_count": 10,
   "metadata": {},
   "outputs": [
    {
     "data": {
      "text/plain": [
       "date              0\n",
       "endpoint          1\n",
       "user_id           0\n",
       "cohort_id     53497\n",
       "source_ip         0\n",
       "name          64497\n",
       "start_date    64497\n",
       "end_date      64497\n",
       "program_id    64497\n",
       "dtype: int64"
      ]
     },
     "execution_count": 10,
     "metadata": {},
     "output_type": "execute_result"
    }
   ],
   "source": [
    "df.isnull().sum()"
   ]
  },
  {
   "cell_type": "code",
   "execution_count": 18,
   "metadata": {},
   "outputs": [
    {
     "data": {
      "text/html": [
       "<div>\n",
       "<style scoped>\n",
       "    .dataframe tbody tr th:only-of-type {\n",
       "        vertical-align: middle;\n",
       "    }\n",
       "\n",
       "    .dataframe tbody tr th {\n",
       "        vertical-align: top;\n",
       "    }\n",
       "\n",
       "    .dataframe thead th {\n",
       "        text-align: right;\n",
       "    }\n",
       "</style>\n",
       "<table border=\"1\" class=\"dataframe\">\n",
       "  <thead>\n",
       "    <tr style=\"text-align: right;\">\n",
       "      <th></th>\n",
       "      <th>date</th>\n",
       "      <th>endpoint</th>\n",
       "      <th>user_id</th>\n",
       "      <th>cohort_id</th>\n",
       "      <th>source_ip</th>\n",
       "      <th>name</th>\n",
       "      <th>start_date</th>\n",
       "      <th>end_date</th>\n",
       "      <th>program_id</th>\n",
       "    </tr>\n",
       "  </thead>\n",
       "  <tbody>\n",
       "    <tr>\n",
       "      <th>1</th>\n",
       "      <td>2018-01-26</td>\n",
       "      <td>java-ii</td>\n",
       "      <td>1</td>\n",
       "      <td>8.0</td>\n",
       "      <td>97.105.19.61</td>\n",
       "      <td>Hampton</td>\n",
       "      <td>2015-09-22</td>\n",
       "      <td>2016-02-06</td>\n",
       "      <td>1.0</td>\n",
       "    </tr>\n",
       "    <tr>\n",
       "      <th>2</th>\n",
       "      <td>2018-01-26</td>\n",
       "      <td>java-ii/object-oriented-programming</td>\n",
       "      <td>1</td>\n",
       "      <td>8.0</td>\n",
       "      <td>97.105.19.61</td>\n",
       "      <td>Hampton</td>\n",
       "      <td>2015-09-22</td>\n",
       "      <td>2016-02-06</td>\n",
       "      <td>1.0</td>\n",
       "    </tr>\n",
       "    <tr>\n",
       "      <th>3</th>\n",
       "      <td>2018-01-26</td>\n",
       "      <td>slides/object_oriented_programming</td>\n",
       "      <td>1</td>\n",
       "      <td>8.0</td>\n",
       "      <td>97.105.19.61</td>\n",
       "      <td>Hampton</td>\n",
       "      <td>2015-09-22</td>\n",
       "      <td>2016-02-06</td>\n",
       "      <td>1.0</td>\n",
       "    </tr>\n",
       "  </tbody>\n",
       "</table>\n",
       "</div>"
      ],
      "text/plain": [
       "         date                             endpoint  user_id  cohort_id  \\\n",
       "1  2018-01-26                              java-ii        1        8.0   \n",
       "2  2018-01-26  java-ii/object-oriented-programming        1        8.0   \n",
       "3  2018-01-26   slides/object_oriented_programming        1        8.0   \n",
       "\n",
       "      source_ip     name  start_date    end_date  program_id  \n",
       "1  97.105.19.61  Hampton  2015-09-22  2016-02-06         1.0  \n",
       "2  97.105.19.61  Hampton  2015-09-22  2016-02-06         1.0  \n",
       "3  97.105.19.61  Hampton  2015-09-22  2016-02-06         1.0  "
      ]
     },
     "execution_count": 18,
     "metadata": {},
     "output_type": "execute_result"
    }
   ],
   "source": [
    "# remove the endpoint that only has '/'\n",
    "df = df[df.endpoint != '/']\n",
    "df.head(3)"
   ]
  },
  {
   "cell_type": "code",
   "execution_count": 19,
   "metadata": {},
   "outputs": [
    {
     "data": {
      "text/plain": [
       "date              0\n",
       "endpoint          1\n",
       "user_id           0\n",
       "cohort_id     48970\n",
       "source_ip         0\n",
       "name          59452\n",
       "start_date    59452\n",
       "end_date      59452\n",
       "program_id    59452\n",
       "dtype: int64"
      ]
     },
     "execution_count": 19,
     "metadata": {},
     "output_type": "execute_result"
    }
   ],
   "source": [
    "df.isnull().sum()"
   ]
  },
  {
   "cell_type": "code",
   "execution_count": 21,
   "metadata": {},
   "outputs": [],
   "source": [
    "df = df.dropna()"
   ]
  },
  {
   "cell_type": "code",
   "execution_count": 22,
   "metadata": {},
   "outputs": [
    {
     "data": {
      "text/plain": [
       "date          0\n",
       "endpoint      0\n",
       "user_id       0\n",
       "cohort_id     0\n",
       "source_ip     0\n",
       "name          0\n",
       "start_date    0\n",
       "end_date      0\n",
       "program_id    0\n",
       "dtype: int64"
      ]
     },
     "execution_count": 22,
     "metadata": {},
     "output_type": "execute_result"
    }
   ],
   "source": [
    "df.isnull().sum()"
   ]
  },
  {
   "cell_type": "code",
   "execution_count": 23,
   "metadata": {},
   "outputs": [
    {
     "data": {
      "text/plain": [
       "(903813, 9)"
      ]
     },
     "execution_count": 23,
     "metadata": {},
     "output_type": "execute_result"
    }
   ],
   "source": [
    "df.shape"
   ]
  },
  {
   "cell_type": "code",
   "execution_count": 25,
   "metadata": {},
   "outputs": [
    {
     "data": {
      "text/plain": [
       "Index(['date', 'endpoint', 'user_id', 'cohort_id', 'source_ip', 'name',\n",
       "       'start_date', 'end_date', 'program_id'],\n",
       "      dtype='object')"
      ]
     },
     "execution_count": 25,
     "metadata": {},
     "output_type": "execute_result"
    }
   ],
   "source": [
    "df.columns"
   ]
  },
  {
   "cell_type": "code",
   "execution_count": 26,
   "metadata": {},
   "outputs": [],
   "source": [
    "df_cohort_list = list(df.name.value_counts().index)"
   ]
  },
  {
   "cell_type": "code",
   "execution_count": 27,
   "metadata": {},
   "outputs": [
    {
     "data": {
      "text/plain": [
       "['Staff',\n",
       " 'Ceres',\n",
       " 'Jupiter',\n",
       " 'Zion',\n",
       " 'Fortuna',\n",
       " 'Deimos',\n",
       " 'Voyageurs',\n",
       " 'Ganymede',\n",
       " 'Marco',\n",
       " 'Apex',\n",
       " 'Darden',\n",
       " 'Teddy',\n",
       " 'Betelgeuse',\n",
       " 'Hyperion',\n",
       " 'Ulysses',\n",
       " 'Xanadu',\n",
       " 'Europa',\n",
       " 'Bayes',\n",
       " 'Wrangell',\n",
       " 'Andromeda',\n",
       " 'Kalypso',\n",
       " 'Neptune',\n",
       " 'Luna',\n",
       " 'Curie',\n",
       " 'Florence',\n",
       " 'Yosemite',\n",
       " 'Arches',\n",
       " 'Bash',\n",
       " 'Oberon',\n",
       " 'Easley',\n",
       " 'Lassen',\n",
       " 'Sequoia',\n",
       " 'Olympic',\n",
       " 'Kings',\n",
       " 'Pinnacles',\n",
       " 'Hampton',\n",
       " 'Quincy',\n",
       " 'Glacier',\n",
       " 'Niagara',\n",
       " 'Mammoth',\n",
       " 'Joshua',\n",
       " 'Ike',\n",
       " 'Badlands',\n",
       " 'Franklin',\n",
       " 'Apollo',\n",
       " 'Denali']"
      ]
     },
     "execution_count": 27,
     "metadata": {},
     "output_type": "execute_result"
    }
   ],
   "source": [
    "df_cohort_list"
   ]
  },
  {
   "cell_type": "code",
   "execution_count": null,
   "metadata": {},
   "outputs": [],
   "source": [
    "# df_cohort_df = pd.DataFrame(ds[ds.endpoint != ])"
   ]
  },
  {
   "cell_type": "code",
   "execution_count": 32,
   "metadata": {},
   "outputs": [
    {
     "data": {
      "text/plain": [
       "2.0    752433\n",
       "3.0    112135\n",
       "1.0     39241\n",
       "4.0         4\n",
       "Name: program_id, dtype: int64"
      ]
     },
     "execution_count": 32,
     "metadata": {},
     "output_type": "execute_result"
    }
   ],
   "source": [
    "df.program_id.value_counts()"
   ]
  },
  {
   "cell_type": "code",
   "execution_count": 31,
   "metadata": {},
   "outputs": [
    {
     "data": {
      "text/plain": [
       "Index(['date', 'endpoint', 'user_id', 'cohort_id', 'source_ip', 'name',\n",
       "       'start_date', 'end_date', 'program_id'],\n",
       "      dtype='object')"
      ]
     },
     "execution_count": 31,
     "metadata": {},
     "output_type": "execute_result"
    }
   ],
   "source": [
    "df.columns"
   ]
  },
  {
   "cell_type": "code",
   "execution_count": 39,
   "metadata": {},
   "outputs": [],
   "source": [
    "x = pd.DataFrame(df).groupby('program_id')['endpoint'].value_counts()"
   ]
  },
  {
   "cell_type": "code",
   "execution_count": 40,
   "metadata": {},
   "outputs": [
    {
     "data": {
      "text/plain": [
       "program_id  endpoint                                                                 \n",
       "1.0         javascript-i                                                                 1144\n",
       "            index.html                                                                   1011\n",
       "            html-css                                                                      979\n",
       "            javascript-i/javascript-with-html                                             832\n",
       "            javascript-i/introduction/working-with-data-types-operators-and-variables     612\n",
       "Name: endpoint, dtype: int64"
      ]
     },
     "execution_count": 40,
     "metadata": {},
     "output_type": "execute_result"
    }
   ],
   "source": [
    "x.head()"
   ]
  },
  {
   "cell_type": "code",
   "execution_count": 43,
   "metadata": {},
   "outputs": [
    {
     "data": {
      "text/plain": [
       "pandas.core.series.Series"
      ]
     },
     "execution_count": 43,
     "metadata": {},
     "output_type": "execute_result"
    }
   ],
   "source": [
    "type(x)"
   ]
  },
  {
   "cell_type": "code",
   "execution_count": 45,
   "metadata": {},
   "outputs": [
    {
     "data": {
      "text/plain": [
       "program_id  endpoint    \n",
       "2.0         javascript-i    19280\n",
       "Name: endpoint, dtype: int64"
      ]
     },
     "execution_count": 45,
     "metadata": {},
     "output_type": "execute_result"
    }
   ],
   "source": [
    "x.nlargest(1)"
   ]
  },
  {
   "cell_type": "code",
   "execution_count": 34,
   "metadata": {},
   "outputs": [
    {
     "data": {
      "text/plain": [
       "program_id  endpoint                                                                 \n",
       "1.0         javascript-i                                                                 1144\n",
       "            index.html                                                                   1011\n",
       "            html-css                                                                      979\n",
       "            javascript-i/javascript-with-html                                             832\n",
       "            javascript-i/introduction/working-with-data-types-operators-and-variables     612\n",
       "                                                                                         ... \n",
       "3.0         where                                                                           1\n",
       "            wrangle                                                                         1\n",
       "4.0         content/html-css                                                                2\n",
       "            content/html-css/gitbook/images/favicon.ico                                     1\n",
       "            content/html-css/introduction.html                                              1\n",
       "Name: endpoint, Length: 3483, dtype: int64"
      ]
     },
     "execution_count": 34,
     "metadata": {},
     "output_type": "execute_result"
    }
   ],
   "source": [
    "pd.DataFrame(df).groupby('program_id')['endpoint'].value_counts()"
   ]
  },
  {
   "cell_type": "code",
   "execution_count": 37,
   "metadata": {},
   "outputs": [],
   "source": [
    "program_list = [1, 2, 3, 4]"
   ]
  },
  {
   "cell_type": "code",
   "execution_count": 46,
   "metadata": {},
   "outputs": [
    {
     "name": "stdout",
     "output_type": "stream",
     "text": [
      "program_id  endpoint    \n",
      "1.0         javascript-i    1144\n",
      "            index.html      1011\n",
      "            html-css         979\n",
      "Name: endpoint, dtype: int64\n",
      "\n",
      "\n",
      "program_id  endpoint                \n",
      "2.0         javascript-i                19280\n",
      "            toc                         19221\n",
      "            search/search_index.json    17012\n",
      "Name: endpoint, dtype: int64\n",
      "\n",
      "\n",
      "program_id  endpoint                                \n",
      "3.0         search/search_index.json                    2950\n",
      "            classification/overview                     2455\n",
      "            classification/scale_features_or_not.svg    2302\n",
      "Name: endpoint, dtype: int64\n",
      "\n",
      "\n",
      "program_id  endpoint                                   \n",
      "4.0         content/html-css                               2\n",
      "            content/html-css/gitbook/images/favicon.ico    1\n",
      "            content/html-css/introduction.html             1\n",
      "Name: endpoint, dtype: int64\n",
      "\n",
      "\n"
     ]
    }
   ],
   "source": [
    "for prog in program_list:\n",
    "        \n",
    "        program_df = pd.DataFrame(df).groupby('program_id')['endpoint'].value_counts()\n",
    "        cep_df = program_df.loc[[prog]]\n",
    "        cep_df = cep_df.nlargest(3)\n",
    "        print(cep_df)\n",
    "        print('\\n')"
   ]
  },
  {
   "cell_type": "code",
   "execution_count": 51,
   "metadata": {},
   "outputs": [
    {
     "name": "stdout",
     "output_type": "stream",
     "text": [
      "program_id  endpoint                     \n",
      "1.0         1._Fundamentals                  4\n",
      "            5.0_Intro_Regression             4\n",
      "            appendix/further-reading/java    4\n",
      "Name: endpoint, dtype: int64\n",
      "\n",
      "\n",
      "program_id  endpoint                              \n",
      "2.0         1-fundamentals/1-intro-to-data-science    4\n",
      "            10.2_Regex                                4\n",
      "            10_Project                                4\n",
      "Name: endpoint, dtype: int64\n",
      "\n",
      "\n",
      "program_id  endpoint                                             \n",
      "3.0         1-fundamentals/2.3-visualization                         4\n",
      "            1.3-pipeline-demo                                        4\n",
      "            10-anomaly-detection/3-detecting-timeseries-anomalies    4\n",
      "Name: endpoint, dtype: int64\n",
      "\n",
      "\n",
      "Series([], Name: endpoint, dtype: int64)\n",
      "\n",
      "\n"
     ]
    }
   ],
   "source": [
    "for prog in program_list:\n",
    "    program_df = pd.DataFrame(df).groupby('program_id')['endpoint'].value_counts()\n",
    "    program_df = program_df[program_df > 3]\n",
    "    cep_df = program_df.loc[[prog]]\n",
    "    cep_df = cep_df.nsmallest(3)\n",
    "    print(cep_df)\n",
    "    print('\\n')"
   ]
  },
  {
   "cell_type": "code",
   "execution_count": 50,
   "metadata": {},
   "outputs": [
    {
     "name": "stdout",
     "output_type": "stream",
     "text": [
      "program_id  endpoint                                         \n",
      "1.0         1-fundamentals/2.4-more-excel-features               1\n",
      "            10-anomaly-detection/1-overview                      1\n",
      "            10-anomaly-detection/AnomalyDetectionCartoon.jpeg    1\n",
      "            10.2_Regex                                           1\n",
      "            11._DistributedML                                    1\n",
      "            11._DistributedML.md                                 1\n",
      "            12.01_SocialNetworkAnalysis                          1\n",
      "            13-advanced-topics/1-tidy-data                       1\n",
      "            13.5_Tableau                                         1\n",
      "            2-storytelling/1-overview                            1\n",
      "Name: endpoint, dtype: int64\n",
      "\n",
      "\n",
      "program_id  endpoint                                                     \n",
      "2.0         '                                                                1\n",
      "            .                                                                1\n",
      "            .git                                                             1\n",
      "            .gitignore                                                       1\n",
      "            00_                                                              1\n",
      "            1._Fundamentals/index.html                                       1\n",
      "            10-anomaly-detection/2-continuous-probabilistic-methods.ipynb    1\n",
      "            10-anomaly-detection/2-continuous-probabilistic-methods.md       1\n",
      "            10-anomaly-detection/3-discrete-probabilistic-methods.ipynb      1\n",
      "            10-anomaly-detection/isolation-forests                           1\n",
      "Name: endpoint, dtype: int64\n",
      "\n",
      "\n",
      "program_id  endpoint                            \n",
      "3.0         %20https://github.com/RaulCPena         1\n",
      "            ,%20https://github.com/RaulCPena        1\n",
      "            .gitignore                              1\n",
      "            10_Project                              1\n",
      "            12-distributed-ml/3-getting-started     1\n",
      "            12-distributed-ml/4-acquire             1\n",
      "            12-distributed-ml/5-inspect             1\n",
      "            12-distributed-ml/6.1-prepare-part-1    1\n",
      "            12-distributed-ml/6.2-prepare-part-2    1\n",
      "            12-distributed-ml/6.3-prepare-part-3    1\n",
      "Name: endpoint, dtype: int64\n",
      "\n",
      "\n",
      "program_id  endpoint                                   \n",
      "4.0         content/html-css/gitbook/images/favicon.ico    1\n",
      "            content/html-css/introduction.html             1\n",
      "            content/html-css                               2\n",
      "Name: endpoint, dtype: int64\n",
      "\n",
      "\n"
     ]
    }
   ],
   "source": [
    "# for prog in program_list:\n",
    "        \n",
    "#         program_df = pd.DataFrame(df).groupby('program_id')['endpoint'].value_counts()\n",
    "#         cep_df = program_df.loc[[prog]]\n",
    "#         cep_df = cep_df.nsmallest(10).\n",
    "#         print(cep_df)\n",
    "#         print('\\n')"
   ]
  },
  {
   "cell_type": "markdown",
   "metadata": {},
   "source": [
    "Number 4 is the same for the Front End Program since there were only 2 cohorts in the earlier years of Codeup.  This information may have changed or no longer available since there are no more cohorts that will use this information"
   ]
  },
  {
   "cell_type": "code",
   "execution_count": null,
   "metadata": {},
   "outputs": [],
   "source": []
  },
  {
   "cell_type": "code",
   "execution_count": 53,
   "metadata": {},
   "outputs": [
    {
     "data": {
      "text/plain": [
       "Index(['date', 'endpoint', 'user_id', 'cohort_id', 'source_ip', 'name',\n",
       "       'start_date', 'end_date', 'program_id'],\n",
       "      dtype='object')"
      ]
     },
     "execution_count": 53,
     "metadata": {},
     "output_type": "execute_result"
    }
   ],
   "source": [
    "df.columns"
   ]
  },
  {
   "cell_type": "code",
   "execution_count": 58,
   "metadata": {},
   "outputs": [
    {
     "data": {
      "text/html": [
       "<div>\n",
       "<style scoped>\n",
       "    .dataframe tbody tr th:only-of-type {\n",
       "        vertical-align: middle;\n",
       "    }\n",
       "\n",
       "    .dataframe tbody tr th {\n",
       "        vertical-align: top;\n",
       "    }\n",
       "\n",
       "    .dataframe thead th {\n",
       "        text-align: right;\n",
       "    }\n",
       "</style>\n",
       "<table border=\"1\" class=\"dataframe\">\n",
       "  <thead>\n",
       "    <tr style=\"text-align: right;\">\n",
       "      <th></th>\n",
       "      <th>date</th>\n",
       "      <th>endpoint</th>\n",
       "      <th>user_id</th>\n",
       "      <th>cohort_id</th>\n",
       "      <th>source_ip</th>\n",
       "      <th>name</th>\n",
       "      <th>start_date</th>\n",
       "      <th>end_date</th>\n",
       "      <th>program_id</th>\n",
       "    </tr>\n",
       "  </thead>\n",
       "  <tbody>\n",
       "    <tr>\n",
       "      <th>1</th>\n",
       "      <td>2018-01-26</td>\n",
       "      <td>java-ii</td>\n",
       "      <td>1</td>\n",
       "      <td>8.0</td>\n",
       "      <td>97.105.19.61</td>\n",
       "      <td>Hampton</td>\n",
       "      <td>2015-09-22</td>\n",
       "      <td>2016-02-06</td>\n",
       "      <td>1.0</td>\n",
       "    </tr>\n",
       "    <tr>\n",
       "      <th>2</th>\n",
       "      <td>2018-01-26</td>\n",
       "      <td>java-ii/object-oriented-programming</td>\n",
       "      <td>1</td>\n",
       "      <td>8.0</td>\n",
       "      <td>97.105.19.61</td>\n",
       "      <td>Hampton</td>\n",
       "      <td>2015-09-22</td>\n",
       "      <td>2016-02-06</td>\n",
       "      <td>1.0</td>\n",
       "    </tr>\n",
       "    <tr>\n",
       "      <th>3</th>\n",
       "      <td>2018-01-26</td>\n",
       "      <td>slides/object_oriented_programming</td>\n",
       "      <td>1</td>\n",
       "      <td>8.0</td>\n",
       "      <td>97.105.19.61</td>\n",
       "      <td>Hampton</td>\n",
       "      <td>2015-09-22</td>\n",
       "      <td>2016-02-06</td>\n",
       "      <td>1.0</td>\n",
       "    </tr>\n",
       "    <tr>\n",
       "      <th>4</th>\n",
       "      <td>2018-01-26</td>\n",
       "      <td>javascript-i/conditionals</td>\n",
       "      <td>2</td>\n",
       "      <td>22.0</td>\n",
       "      <td>97.105.19.61</td>\n",
       "      <td>Teddy</td>\n",
       "      <td>2018-01-08</td>\n",
       "      <td>2018-05-17</td>\n",
       "      <td>2.0</td>\n",
       "    </tr>\n",
       "    <tr>\n",
       "      <th>5</th>\n",
       "      <td>2018-01-26</td>\n",
       "      <td>javascript-i/loops</td>\n",
       "      <td>2</td>\n",
       "      <td>22.0</td>\n",
       "      <td>97.105.19.61</td>\n",
       "      <td>Teddy</td>\n",
       "      <td>2018-01-08</td>\n",
       "      <td>2018-05-17</td>\n",
       "      <td>2.0</td>\n",
       "    </tr>\n",
       "  </tbody>\n",
       "</table>\n",
       "</div>"
      ],
      "text/plain": [
       "         date                             endpoint  user_id  cohort_id  \\\n",
       "1  2018-01-26                              java-ii        1        8.0   \n",
       "2  2018-01-26  java-ii/object-oriented-programming        1        8.0   \n",
       "3  2018-01-26   slides/object_oriented_programming        1        8.0   \n",
       "4  2018-01-26            javascript-i/conditionals        2       22.0   \n",
       "5  2018-01-26                   javascript-i/loops        2       22.0   \n",
       "\n",
       "      source_ip     name  start_date    end_date  program_id  \n",
       "1  97.105.19.61  Hampton  2015-09-22  2016-02-06         1.0  \n",
       "2  97.105.19.61  Hampton  2015-09-22  2016-02-06         1.0  \n",
       "3  97.105.19.61  Hampton  2015-09-22  2016-02-06         1.0  \n",
       "4  97.105.19.61    Teddy  2018-01-08  2018-05-17         2.0  \n",
       "5  97.105.19.61    Teddy  2018-01-08  2018-05-17         2.0  "
      ]
     },
     "execution_count": 58,
     "metadata": {},
     "output_type": "execute_result"
    }
   ],
   "source": [
    "df.head()"
   ]
  },
  {
   "cell_type": "code",
   "execution_count": 57,
   "metadata": {},
   "outputs": [
    {
     "data": {
      "text/plain": [
       "array([257736,  57655,   9290,   6519,   5101,   4779,   4528,   4347,\n",
       "         3824,   3753,   3453,   3203,   3201,   3194,   3104,   2845,\n",
       "         2839,   2816,   2697,   2683,   2502,   2492,   2462,   2440,\n",
       "         2402,   2355,   2313,   2255,   2209,   2205,   2202,   2173,\n",
       "         2147,   2118,   2110,   2072,   2064,   2028,   2022,   1999,\n",
       "         1997,   1975,   1911,   1906,   1904,   1899,   1880,   1865,\n",
       "         1863,   1848,   1780,   1759,   1700,   1690,   1683,   1673,\n",
       "         1671,   1669,   1668,   1660,   1658,   1631,   1625,   1620,\n",
       "         1618,   1584,   1571,   1567,   1566,   1560,   1533,   1522,\n",
       "         1513,   1503,   1500,   1488,   1480,   1473,   1448,   1444,\n",
       "         1441,   1426,   1398,   1395,   1388,   1384,   1376,   1370,\n",
       "         1357,   1351,   1346,   1342,   1339,   1336,   1331,   1329,\n",
       "         1326,   1323,   1300,   1293,   1288,   1283,   1281,   1279,\n",
       "         1277,   1275,   1271,   1263,   1260,   1259,   1250,   1247,\n",
       "         1229,   1220,   1211,   1210,   1205,   1202,   1189,   1187,\n",
       "         1175,   1137,   1136,   1135,   1125,   1124,   1123,   1121,\n",
       "         1118,   1111,   1109,   1106,   1101,   1085,   1080,   1075,\n",
       "         1063,   1060,   1059,   1058,   1050,   1048,   1045,   1043,\n",
       "         1028,    996,    991,    990,    989,    986,    983,    981,\n",
       "          973,    972,    970,    968,    962,    949,    948,    940,\n",
       "          936,    932,    931,    925,    924,    923,    920,    914,\n",
       "          913,    911,    903,    900,    898,    897,    896,    884,\n",
       "          879,    875,    871,    870,    869,    865,    864,    862,\n",
       "          861,    855,    854,    852,    851,    843,    837,    832,\n",
       "          828,    822,    812,    809,    808,    804,    802,    800,\n",
       "          796,    794,    793,    792,    789,    785,    784,    783,\n",
       "          782,    774,    773,    768,    767,    766,    764,    761,\n",
       "          758,    751,    750,    747,    746,    745,    741,    730,\n",
       "          729,    725,    724,    723,    714,    713,    712,    711,\n",
       "          710,    707,    697,    694,    692,    690,    688,    685,\n",
       "          684,    679,    675,    674,    673,    668,    666,    664,\n",
       "          653,    651,    648,    643,    637,    635,    632,    628,\n",
       "          625,    621,    620,    618,    614,    608,    606,    602,\n",
       "          599,    596,    595,    594,    592,    590,    588,    583,\n",
       "          582,    579,    578,    576,    572,    571,    568,    564,\n",
       "          563,    559,    558,    550,    545,    544,    536,    534,\n",
       "          532,    531,    528,    520,    518,    516,    515,    513,\n",
       "          512,    511,    510,    508,    505,    502,    501,    497,\n",
       "          496,    494,    493,    489,    487,    485,    484,    477,\n",
       "          475,    474,    472,    469,    466,    460,    458,    456,\n",
       "          455,    453,    451,    450,    447,    446,    443,    442,\n",
       "          434,    432,    430,    429,    428,    427,    423,    421,\n",
       "          419,    418,    417,    416,    414,    413,    412,    407,\n",
       "          406,    405,    402,    398,    397,    395,    394,    393,\n",
       "          390,    389,    388,    386,    384,    382,    377,    375,\n",
       "          373,    371,    369,    365,    362,    361,    358,    354,\n",
       "          351,    349,    348,    346,    345,    344,    341,    339,\n",
       "          337,    336,    335,    333,    332,    331,    330,    328,\n",
       "          327,    325,    323,    322,    319,    317,    315,    314,\n",
       "          313,    312,    310,    308,    306,    303,    302,    300,\n",
       "          299,    298,    296,    294,    291,    290,    289,    288,\n",
       "          287,    286,    285,    284,    283,    282,    281,    279,\n",
       "          278,    276,    275,    274,    272,    269,    268,    267,\n",
       "          266,    262,    258,    257,    256,    255,    254,    253,\n",
       "          252,    249,    248,    246,    244,    243,    241,    240,\n",
       "          239,    238,    237,    236,    233,    232,    231,    228,\n",
       "          227,    226,    225,    224,    222,    221,    220,    219,\n",
       "          218,    217,    216,    214,    213,    212,    211,    210,\n",
       "          209,    208,    207,    206,    205,    204,    203,    201,\n",
       "          200,    199,    198,    197,    196,    195,    194,    193,\n",
       "          192,    191,    190,    189,    188,    187,    185,    184,\n",
       "          183,    182,    181,    180,    179,    178,    177,    176,\n",
       "          175,    173,    172,    171,    170,    169,    168,    167,\n",
       "          166,    165,    164,    163,    162,    161,    160,    159,\n",
       "          158,    157,    156,    155,    154,    153,    152,    151,\n",
       "          150,    149,    148,    145,    144,    143,    142,    141,\n",
       "          139,    138,    137,    136,    135,    134,    133,    132,\n",
       "          130,    129,    128,    127,    126,    125,    124,    123,\n",
       "          122,    121,    120,    119,    118,    117,    116,    115,\n",
       "          114,    113,    112,    111,    110,    109,    108,    107,\n",
       "          106,    105,    104,    103,    102,    101,    100,     99,\n",
       "           98,     97,     96,     95,     94,     93,     92,     91,\n",
       "           90,     89,     88,     87,     86,     85,     84,     83,\n",
       "           82,     81,     80,     79,     78,     77,     76,     75,\n",
       "           74,     73,     72,     71,     70,     69,     68,     67,\n",
       "           66,     65,     64,     63,     62,     61,     60,     59,\n",
       "           58,     57,     56,     55,     54,     53,     52,     51,\n",
       "           50,     49,     48,     47,     46,     45,     44,     43,\n",
       "           42,     41,     40,     39,     38,     37,     36,     35,\n",
       "           34,     33,     32,     31,     30,     29,     28,     27,\n",
       "           26,     25,     24,     23,     22,     21,     20,     19,\n",
       "           18,     17,     16,     15,     14,     13,     12,     11,\n",
       "           10,      9,      8,      7,      6,      5,      4,      3,\n",
       "            2,      1])"
      ]
     },
     "execution_count": 57,
     "metadata": {},
     "output_type": "execute_result"
    }
   ],
   "source": [
    "df.source_ip.value_counts().unique()"
   ]
  },
  {
   "cell_type": "code",
   "execution_count": null,
   "metadata": {},
   "outputs": [],
   "source": []
  },
  {
   "cell_type": "code",
   "execution_count": null,
   "metadata": {},
   "outputs": [],
   "source": []
  },
  {
   "cell_type": "code",
   "execution_count": null,
   "metadata": {},
   "outputs": [],
   "source": []
  },
  {
   "cell_type": "code",
   "execution_count": null,
   "metadata": {},
   "outputs": [],
   "source": []
  },
  {
   "cell_type": "code",
   "execution_count": null,
   "metadata": {},
   "outputs": [],
   "source": []
  },
  {
   "cell_type": "code",
   "execution_count": null,
   "metadata": {},
   "outputs": [],
   "source": []
  },
  {
   "cell_type": "code",
   "execution_count": null,
   "metadata": {},
   "outputs": [],
   "source": []
  }
 ],
 "metadata": {
  "kernelspec": {
   "display_name": "Python 3",
   "language": "python",
   "name": "python3"
  },
  "language_info": {
   "codemirror_mode": {
    "name": "ipython",
    "version": 3
   },
   "file_extension": ".py",
   "mimetype": "text/x-python",
   "name": "python",
   "nbconvert_exporter": "python",
   "pygments_lexer": "ipython3",
   "version": "3.8.5"
  }
 },
 "nbformat": 4,
 "nbformat_minor": 4
}
