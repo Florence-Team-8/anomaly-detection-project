{
 "cells": [
  {
   "cell_type": "code",
   "execution_count": 1,
   "metadata": {},
   "outputs": [],
   "source": [
    "import warnings\n",
    "warnings.filterwarnings(\"ignore\")\n",
    "\n",
    "from acquire import user, host, password\n",
    "import acquire\n",
    "\n",
    "import numpy as np\n",
    "import pandas as pd\n",
    "\n",
    "import matplotlib.pyplot as plt\n",
    "import seaborn as sns"
   ]
  },
  {
   "cell_type": "code",
   "execution_count": 7,
   "metadata": {},
   "outputs": [],
   "source": [
    "df = acquire.get_joined_curriculum_data()"
   ]
  },
  {
   "cell_type": "code",
   "execution_count": 8,
   "metadata": {},
   "outputs": [
    {
     "data": {
      "text/html": [
       "<div>\n",
       "<style scoped>\n",
       "    .dataframe tbody tr th:only-of-type {\n",
       "        vertical-align: middle;\n",
       "    }\n",
       "\n",
       "    .dataframe tbody tr th {\n",
       "        vertical-align: top;\n",
       "    }\n",
       "\n",
       "    .dataframe thead th {\n",
       "        text-align: right;\n",
       "    }\n",
       "</style>\n",
       "<table border=\"1\" class=\"dataframe\">\n",
       "  <thead>\n",
       "    <tr style=\"text-align: right;\">\n",
       "      <th></th>\n",
       "      <th>date</th>\n",
       "      <th>endpoint</th>\n",
       "      <th>user_id</th>\n",
       "      <th>cohort_id</th>\n",
       "      <th>source_ip</th>\n",
       "      <th>name</th>\n",
       "      <th>start_date</th>\n",
       "      <th>end_date</th>\n",
       "      <th>program_id</th>\n",
       "    </tr>\n",
       "  </thead>\n",
       "  <tbody>\n",
       "    <tr>\n",
       "      <th>0</th>\n",
       "      <td>2018-01-26</td>\n",
       "      <td>/</td>\n",
       "      <td>1</td>\n",
       "      <td>8.0</td>\n",
       "      <td>97.105.19.61</td>\n",
       "      <td>Hampton</td>\n",
       "      <td>2015-09-22</td>\n",
       "      <td>2016-02-06</td>\n",
       "      <td>1.0</td>\n",
       "    </tr>\n",
       "    <tr>\n",
       "      <th>1</th>\n",
       "      <td>2018-01-26</td>\n",
       "      <td>java-ii</td>\n",
       "      <td>1</td>\n",
       "      <td>8.0</td>\n",
       "      <td>97.105.19.61</td>\n",
       "      <td>Hampton</td>\n",
       "      <td>2015-09-22</td>\n",
       "      <td>2016-02-06</td>\n",
       "      <td>1.0</td>\n",
       "    </tr>\n",
       "    <tr>\n",
       "      <th>2</th>\n",
       "      <td>2018-01-26</td>\n",
       "      <td>java-ii/object-oriented-programming</td>\n",
       "      <td>1</td>\n",
       "      <td>8.0</td>\n",
       "      <td>97.105.19.61</td>\n",
       "      <td>Hampton</td>\n",
       "      <td>2015-09-22</td>\n",
       "      <td>2016-02-06</td>\n",
       "      <td>1.0</td>\n",
       "    </tr>\n",
       "  </tbody>\n",
       "</table>\n",
       "</div>"
      ],
      "text/plain": [
       "         date                             endpoint  user_id  cohort_id  \\\n",
       "0  2018-01-26                                    /        1        8.0   \n",
       "1  2018-01-26                              java-ii        1        8.0   \n",
       "2  2018-01-26  java-ii/object-oriented-programming        1        8.0   \n",
       "\n",
       "      source_ip     name  start_date    end_date  program_id  \n",
       "0  97.105.19.61  Hampton  2015-09-22  2016-02-06         1.0  \n",
       "1  97.105.19.61  Hampton  2015-09-22  2016-02-06         1.0  \n",
       "2  97.105.19.61  Hampton  2015-09-22  2016-02-06         1.0  "
      ]
     },
     "execution_count": 8,
     "metadata": {},
     "output_type": "execute_result"
    }
   ],
   "source": [
    "df.head(3)"
   ]
  },
  {
   "cell_type": "code",
   "execution_count": 12,
   "metadata": {},
   "outputs": [
    {
     "data": {
      "text/plain": [
       "(1018810, 9)"
      ]
     },
     "execution_count": 12,
     "metadata": {},
     "output_type": "execute_result"
    }
   ],
   "source": [
    "df.shape"
   ]
  },
  {
   "cell_type": "code",
   "execution_count": 10,
   "metadata": {},
   "outputs": [
    {
     "data": {
      "text/plain": [
       "date              0\n",
       "endpoint          1\n",
       "user_id           0\n",
       "cohort_id     53497\n",
       "source_ip         0\n",
       "name          64497\n",
       "start_date    64497\n",
       "end_date      64497\n",
       "program_id    64497\n",
       "dtype: int64"
      ]
     },
     "execution_count": 10,
     "metadata": {},
     "output_type": "execute_result"
    }
   ],
   "source": [
    "df.isnull().sum()"
   ]
  },
  {
   "cell_type": "code",
   "execution_count": 18,
   "metadata": {},
   "outputs": [
    {
     "data": {
      "text/html": [
       "<div>\n",
       "<style scoped>\n",
       "    .dataframe tbody tr th:only-of-type {\n",
       "        vertical-align: middle;\n",
       "    }\n",
       "\n",
       "    .dataframe tbody tr th {\n",
       "        vertical-align: top;\n",
       "    }\n",
       "\n",
       "    .dataframe thead th {\n",
       "        text-align: right;\n",
       "    }\n",
       "</style>\n",
       "<table border=\"1\" class=\"dataframe\">\n",
       "  <thead>\n",
       "    <tr style=\"text-align: right;\">\n",
       "      <th></th>\n",
       "      <th>date</th>\n",
       "      <th>endpoint</th>\n",
       "      <th>user_id</th>\n",
       "      <th>cohort_id</th>\n",
       "      <th>source_ip</th>\n",
       "      <th>name</th>\n",
       "      <th>start_date</th>\n",
       "      <th>end_date</th>\n",
       "      <th>program_id</th>\n",
       "    </tr>\n",
       "  </thead>\n",
       "  <tbody>\n",
       "    <tr>\n",
       "      <th>1</th>\n",
       "      <td>2018-01-26</td>\n",
       "      <td>java-ii</td>\n",
       "      <td>1</td>\n",
       "      <td>8.0</td>\n",
       "      <td>97.105.19.61</td>\n",
       "      <td>Hampton</td>\n",
       "      <td>2015-09-22</td>\n",
       "      <td>2016-02-06</td>\n",
       "      <td>1.0</td>\n",
       "    </tr>\n",
       "    <tr>\n",
       "      <th>2</th>\n",
       "      <td>2018-01-26</td>\n",
       "      <td>java-ii/object-oriented-programming</td>\n",
       "      <td>1</td>\n",
       "      <td>8.0</td>\n",
       "      <td>97.105.19.61</td>\n",
       "      <td>Hampton</td>\n",
       "      <td>2015-09-22</td>\n",
       "      <td>2016-02-06</td>\n",
       "      <td>1.0</td>\n",
       "    </tr>\n",
       "    <tr>\n",
       "      <th>3</th>\n",
       "      <td>2018-01-26</td>\n",
       "      <td>slides/object_oriented_programming</td>\n",
       "      <td>1</td>\n",
       "      <td>8.0</td>\n",
       "      <td>97.105.19.61</td>\n",
       "      <td>Hampton</td>\n",
       "      <td>2015-09-22</td>\n",
       "      <td>2016-02-06</td>\n",
       "      <td>1.0</td>\n",
       "    </tr>\n",
       "  </tbody>\n",
       "</table>\n",
       "</div>"
      ],
      "text/plain": [
       "         date                             endpoint  user_id  cohort_id  \\\n",
       "1  2018-01-26                              java-ii        1        8.0   \n",
       "2  2018-01-26  java-ii/object-oriented-programming        1        8.0   \n",
       "3  2018-01-26   slides/object_oriented_programming        1        8.0   \n",
       "\n",
       "      source_ip     name  start_date    end_date  program_id  \n",
       "1  97.105.19.61  Hampton  2015-09-22  2016-02-06         1.0  \n",
       "2  97.105.19.61  Hampton  2015-09-22  2016-02-06         1.0  \n",
       "3  97.105.19.61  Hampton  2015-09-22  2016-02-06         1.0  "
      ]
     },
     "execution_count": 18,
     "metadata": {},
     "output_type": "execute_result"
    }
   ],
   "source": [
    "# remove the endpoint that only has '/'\n",
    "df = df[df.endpoint != '/']\n",
    "df.head(3)"
   ]
  },
  {
   "cell_type": "code",
   "execution_count": 19,
   "metadata": {},
   "outputs": [
    {
     "data": {
      "text/plain": [
       "date              0\n",
       "endpoint          1\n",
       "user_id           0\n",
       "cohort_id     48970\n",
       "source_ip         0\n",
       "name          59452\n",
       "start_date    59452\n",
       "end_date      59452\n",
       "program_id    59452\n",
       "dtype: int64"
      ]
     },
     "execution_count": 19,
     "metadata": {},
     "output_type": "execute_result"
    }
   ],
   "source": [
    "df.isnull().sum()"
   ]
  },
  {
   "cell_type": "code",
   "execution_count": 21,
   "metadata": {},
   "outputs": [],
   "source": [
    "df = df.dropna()"
   ]
  },
  {
   "cell_type": "code",
   "execution_count": 22,
   "metadata": {},
   "outputs": [
    {
     "data": {
      "text/plain": [
       "date          0\n",
       "endpoint      0\n",
       "user_id       0\n",
       "cohort_id     0\n",
       "source_ip     0\n",
       "name          0\n",
       "start_date    0\n",
       "end_date      0\n",
       "program_id    0\n",
       "dtype: int64"
      ]
     },
     "execution_count": 22,
     "metadata": {},
     "output_type": "execute_result"
    }
   ],
   "source": [
    "df.isnull().sum()"
   ]
  },
  {
   "cell_type": "code",
   "execution_count": 23,
   "metadata": {},
   "outputs": [
    {
     "data": {
      "text/plain": [
       "(903813, 9)"
      ]
     },
     "execution_count": 23,
     "metadata": {},
     "output_type": "execute_result"
    }
   ],
   "source": [
    "df.shape"
   ]
  },
  {
   "cell_type": "code",
   "execution_count": 25,
   "metadata": {},
   "outputs": [
    {
     "data": {
      "text/plain": [
       "Index(['date', 'endpoint', 'user_id', 'cohort_id', 'source_ip', 'name',\n",
       "       'start_date', 'end_date', 'program_id'],\n",
       "      dtype='object')"
      ]
     },
     "execution_count": 25,
     "metadata": {},
     "output_type": "execute_result"
    }
   ],
   "source": [
    "df.columns"
   ]
  },
  {
   "cell_type": "code",
   "execution_count": 26,
   "metadata": {},
   "outputs": [],
   "source": [
    "df_cohort_list = list(df.name.value_counts().index)"
   ]
  },
  {
   "cell_type": "code",
   "execution_count": 27,
   "metadata": {},
   "outputs": [
    {
     "data": {
      "text/plain": [
       "['Staff',\n",
       " 'Ceres',\n",
       " 'Jupiter',\n",
       " 'Zion',\n",
       " 'Fortuna',\n",
       " 'Deimos',\n",
       " 'Voyageurs',\n",
       " 'Ganymede',\n",
       " 'Marco',\n",
       " 'Apex',\n",
       " 'Darden',\n",
       " 'Teddy',\n",
       " 'Betelgeuse',\n",
       " 'Hyperion',\n",
       " 'Ulysses',\n",
       " 'Xanadu',\n",
       " 'Europa',\n",
       " 'Bayes',\n",
       " 'Wrangell',\n",
       " 'Andromeda',\n",
       " 'Kalypso',\n",
       " 'Neptune',\n",
       " 'Luna',\n",
       " 'Curie',\n",
       " 'Florence',\n",
       " 'Yosemite',\n",
       " 'Arches',\n",
       " 'Bash',\n",
       " 'Oberon',\n",
       " 'Easley',\n",
       " 'Lassen',\n",
       " 'Sequoia',\n",
       " 'Olympic',\n",
       " 'Kings',\n",
       " 'Pinnacles',\n",
       " 'Hampton',\n",
       " 'Quincy',\n",
       " 'Glacier',\n",
       " 'Niagara',\n",
       " 'Mammoth',\n",
       " 'Joshua',\n",
       " 'Ike',\n",
       " 'Badlands',\n",
       " 'Franklin',\n",
       " 'Apollo',\n",
       " 'Denali']"
      ]
     },
     "execution_count": 27,
     "metadata": {},
     "output_type": "execute_result"
    }
   ],
   "source": [
    "df_cohort_list"
   ]
  },
  {
   "cell_type": "code",
   "execution_count": null,
   "metadata": {},
   "outputs": [],
   "source": [
    "# df_cohort_df = pd.DataFrame(ds[ds.endpoint != ])"
   ]
  },
  {
   "cell_type": "code",
   "execution_count": 32,
   "metadata": {},
   "outputs": [
    {
     "data": {
      "text/plain": [
       "2.0    752433\n",
       "3.0    112135\n",
       "1.0     39241\n",
       "4.0         4\n",
       "Name: program_id, dtype: int64"
      ]
     },
     "execution_count": 32,
     "metadata": {},
     "output_type": "execute_result"
    }
   ],
   "source": [
    "df.program_id.value_counts()"
   ]
  },
  {
   "cell_type": "code",
   "execution_count": 31,
   "metadata": {},
   "outputs": [
    {
     "data": {
      "text/plain": [
       "Index(['date', 'endpoint', 'user_id', 'cohort_id', 'source_ip', 'name',\n",
       "       'start_date', 'end_date', 'program_id'],\n",
       "      dtype='object')"
      ]
     },
     "execution_count": 31,
     "metadata": {},
     "output_type": "execute_result"
    }
   ],
   "source": [
    "df.columns"
   ]
  },
  {
   "cell_type": "code",
   "execution_count": 39,
   "metadata": {},
   "outputs": [],
   "source": [
    "x = pd.DataFrame(df).groupby('program_id')['endpoint'].value_counts()"
   ]
  },
  {
   "cell_type": "code",
   "execution_count": 40,
   "metadata": {},
   "outputs": [
    {
     "data": {
      "text/plain": [
       "program_id  endpoint                                                                 \n",
       "1.0         javascript-i                                                                 1144\n",
       "            index.html                                                                   1011\n",
       "            html-css                                                                      979\n",
       "            javascript-i/javascript-with-html                                             832\n",
       "            javascript-i/introduction/working-with-data-types-operators-and-variables     612\n",
       "Name: endpoint, dtype: int64"
      ]
     },
     "execution_count": 40,
     "metadata": {},
     "output_type": "execute_result"
    }
   ],
   "source": [
    "x.head()"
   ]
  },
  {
   "cell_type": "code",
   "execution_count": 43,
   "metadata": {},
   "outputs": [
    {
     "data": {
      "text/plain": [
       "pandas.core.series.Series"
      ]
     },
     "execution_count": 43,
     "metadata": {},
     "output_type": "execute_result"
    }
   ],
   "source": [
    "type(x)"
   ]
  },
  {
   "cell_type": "code",
   "execution_count": 45,
   "metadata": {},
   "outputs": [
    {
     "data": {
      "text/plain": [
       "program_id  endpoint    \n",
       "2.0         javascript-i    19280\n",
       "Name: endpoint, dtype: int64"
      ]
     },
     "execution_count": 45,
     "metadata": {},
     "output_type": "execute_result"
    }
   ],
   "source": [
    "x.nlargest(1)"
   ]
  },
  {
   "cell_type": "code",
   "execution_count": 34,
   "metadata": {},
   "outputs": [
    {
     "data": {
      "text/plain": [
       "program_id  endpoint                                                                 \n",
       "1.0         javascript-i                                                                 1144\n",
       "            index.html                                                                   1011\n",
       "            html-css                                                                      979\n",
       "            javascript-i/javascript-with-html                                             832\n",
       "            javascript-i/introduction/working-with-data-types-operators-and-variables     612\n",
       "                                                                                         ... \n",
       "3.0         where                                                                           1\n",
       "            wrangle                                                                         1\n",
       "4.0         content/html-css                                                                2\n",
       "            content/html-css/gitbook/images/favicon.ico                                     1\n",
       "            content/html-css/introduction.html                                              1\n",
       "Name: endpoint, Length: 3483, dtype: int64"
      ]
     },
     "execution_count": 34,
     "metadata": {},
     "output_type": "execute_result"
    }
   ],
   "source": [
    "pd.DataFrame(df).groupby('program_id')['endpoint'].value_counts()"
   ]
  },
  {
   "cell_type": "code",
   "execution_count": 37,
   "metadata": {},
   "outputs": [],
   "source": [
    "program_list = [1, 2, 3, 4]"
   ]
  },
  {
   "cell_type": "code",
   "execution_count": 46,
   "metadata": {},
   "outputs": [
    {
     "name": "stdout",
     "output_type": "stream",
     "text": [
      "program_id  endpoint    \n",
      "1.0         javascript-i    1144\n",
      "            index.html      1011\n",
      "            html-css         979\n",
      "Name: endpoint, dtype: int64\n",
      "\n",
      "\n",
      "program_id  endpoint                \n",
      "2.0         javascript-i                19280\n",
      "            toc                         19221\n",
      "            search/search_index.json    17012\n",
      "Name: endpoint, dtype: int64\n",
      "\n",
      "\n",
      "program_id  endpoint                                \n",
      "3.0         search/search_index.json                    2950\n",
      "            classification/overview                     2455\n",
      "            classification/scale_features_or_not.svg    2302\n",
      "Name: endpoint, dtype: int64\n",
      "\n",
      "\n",
      "program_id  endpoint                                   \n",
      "4.0         content/html-css                               2\n",
      "            content/html-css/gitbook/images/favicon.ico    1\n",
      "            content/html-css/introduction.html             1\n",
      "Name: endpoint, dtype: int64\n",
      "\n",
      "\n"
     ]
    }
   ],
   "source": [
    "for prog in program_list:\n",
    "        \n",
    "        program_df = pd.DataFrame(df).groupby('program_id')['endpoint'].value_counts()\n",
    "        cep_df = program_df.loc[[prog]]\n",
    "        cep_df = cep_df.nlargest(3)\n",
    "        print(cep_df)\n",
    "        print('\\n')"
   ]
  },
  {
   "cell_type": "code",
   "execution_count": 51,
   "metadata": {},
   "outputs": [
    {
     "name": "stdout",
     "output_type": "stream",
     "text": [
      "program_id  endpoint                     \n",
      "1.0         1._Fundamentals                  4\n",
      "            5.0_Intro_Regression             4\n",
      "            appendix/further-reading/java    4\n",
      "Name: endpoint, dtype: int64\n",
      "\n",
      "\n",
      "program_id  endpoint                              \n",
      "2.0         1-fundamentals/1-intro-to-data-science    4\n",
      "            10.2_Regex                                4\n",
      "            10_Project                                4\n",
      "Name: endpoint, dtype: int64\n",
      "\n",
      "\n",
      "program_id  endpoint                                             \n",
      "3.0         1-fundamentals/2.3-visualization                         4\n",
      "            1.3-pipeline-demo                                        4\n",
      "            10-anomaly-detection/3-detecting-timeseries-anomalies    4\n",
      "Name: endpoint, dtype: int64\n",
      "\n",
      "\n",
      "Series([], Name: endpoint, dtype: int64)\n",
      "\n",
      "\n"
     ]
    }
   ],
   "source": [
    "for prog in program_list:\n",
    "    program_df = pd.DataFrame(df).groupby('program_id')['endpoint'].value_counts()\n",
    "    program_df = program_df[program_df > 3]\n",
    "    cep_df = program_df.loc[[prog]]\n",
    "    cep_df = cep_df.nsmallest(3)\n",
    "    print(cep_df)\n",
    "    print('\\n')"
   ]
  },
  {
   "cell_type": "code",
   "execution_count": 50,
   "metadata": {},
   "outputs": [
    {
     "name": "stdout",
     "output_type": "stream",
     "text": [
      "program_id  endpoint                                         \n",
      "1.0         1-fundamentals/2.4-more-excel-features               1\n",
      "            10-anomaly-detection/1-overview                      1\n",
      "            10-anomaly-detection/AnomalyDetectionCartoon.jpeg    1\n",
      "            10.2_Regex                                           1\n",
      "            11._DistributedML                                    1\n",
      "            11._DistributedML.md                                 1\n",
      "            12.01_SocialNetworkAnalysis                          1\n",
      "            13-advanced-topics/1-tidy-data                       1\n",
      "            13.5_Tableau                                         1\n",
      "            2-storytelling/1-overview                            1\n",
      "Name: endpoint, dtype: int64\n",
      "\n",
      "\n",
      "program_id  endpoint                                                     \n",
      "2.0         '                                                                1\n",
      "            .                                                                1\n",
      "            .git                                                             1\n",
      "            .gitignore                                                       1\n",
      "            00_                                                              1\n",
      "            1._Fundamentals/index.html                                       1\n",
      "            10-anomaly-detection/2-continuous-probabilistic-methods.ipynb    1\n",
      "            10-anomaly-detection/2-continuous-probabilistic-methods.md       1\n",
      "            10-anomaly-detection/3-discrete-probabilistic-methods.ipynb      1\n",
      "            10-anomaly-detection/isolation-forests                           1\n",
      "Name: endpoint, dtype: int64\n",
      "\n",
      "\n",
      "program_id  endpoint                            \n",
      "3.0         %20https://github.com/RaulCPena         1\n",
      "            ,%20https://github.com/RaulCPena        1\n",
      "            .gitignore                              1\n",
      "            10_Project                              1\n",
      "            12-distributed-ml/3-getting-started     1\n",
      "            12-distributed-ml/4-acquire             1\n",
      "            12-distributed-ml/5-inspect             1\n",
      "            12-distributed-ml/6.1-prepare-part-1    1\n",
      "            12-distributed-ml/6.2-prepare-part-2    1\n",
      "            12-distributed-ml/6.3-prepare-part-3    1\n",
      "Name: endpoint, dtype: int64\n",
      "\n",
      "\n",
      "program_id  endpoint                                   \n",
      "4.0         content/html-css/gitbook/images/favicon.ico    1\n",
      "            content/html-css/introduction.html             1\n",
      "            content/html-css                               2\n",
      "Name: endpoint, dtype: int64\n",
      "\n",
      "\n"
     ]
    }
   ],
   "source": [
    "for prog in program_list:\n",
    "        \n",
    "        program_df = pd.DataFrame(df).groupby('program_id')['endpoint'].value_counts()\n",
    "        cep_df = program_df.loc[[prog]]\n",
    "        cep_df = cep_df.nsmallest(10).\n",
    "        print(cep_df)\n",
    "        print('\\n')"
   ]
  },
  {
   "cell_type": "markdown",
   "metadata": {},
   "source": [
    "Number 4 is the same for the Front End Program since there were only 2 cohorts in the earlier years of Codeup.  This information may have changed or no longer available since there are no more cohorts that will use this information"
   ]
  },
  {
   "cell_type": "code",
   "execution_count": null,
   "metadata": {},
   "outputs": [],
   "source": []
  },
  {
   "cell_type": "code",
   "execution_count": null,
   "metadata": {},
   "outputs": [],
   "source": []
  },
  {
   "cell_type": "code",
   "execution_count": null,
   "metadata": {},
   "outputs": [],
   "source": []
  },
  {
   "cell_type": "code",
   "execution_count": null,
   "metadata": {},
   "outputs": [],
   "source": []
  },
  {
   "cell_type": "code",
   "execution_count": null,
   "metadata": {},
   "outputs": [],
   "source": []
  },
  {
   "cell_type": "code",
   "execution_count": null,
   "metadata": {},
   "outputs": [],
   "source": []
  },
  {
   "cell_type": "code",
   "execution_count": null,
   "metadata": {},
   "outputs": [],
   "source": []
  },
  {
   "cell_type": "code",
   "execution_count": null,
   "metadata": {},
   "outputs": [],
   "source": []
  },
  {
   "cell_type": "code",
   "execution_count": null,
   "metadata": {},
   "outputs": [],
   "source": []
  },
  {
   "cell_type": "code",
   "execution_count": null,
   "metadata": {},
   "outputs": [],
   "source": []
  }
 ],
 "metadata": {
  "kernelspec": {
   "display_name": "Python 3",
   "language": "python",
   "name": "python3"
  },
  "language_info": {
   "codemirror_mode": {
    "name": "ipython",
    "version": 3
   },
   "file_extension": ".py",
   "mimetype": "text/x-python",
   "name": "python",
   "nbconvert_exporter": "python",
   "pygments_lexer": "ipython3",
   "version": "3.8.5"
  }
 },
 "nbformat": 4,
 "nbformat_minor": 4
}
